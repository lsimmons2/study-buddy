{
 "cells": [
  {
   "cell_type": "code",
   "execution_count": 4,
   "id": "c57b346a-8c08-470b-9efd-4c0e658db1d3",
   "metadata": {},
   "outputs": [],
   "source": [
    "# Import required libraries\n",
    "import requests\n",
    "import numpy as np\n",
    "\n",
    "# Configure the services\n",
    "SCRIPT_SERVICE_URL = \"http://localhost:8001\"\n",
    "EMBEDDING_INDEX_URL = \"http://localhost:8000\""
   ]
  },
  {
   "cell_type": "code",
   "execution_count": 65,
   "id": "4e17e2f9-2e29-42cf-b6e3-f5ba5ca4b28c",
   "metadata": {},
   "outputs": [],
   "source": [
    "# Function to fetch all scripts\n",
    "def fetch_all_scripts():\n",
    "    \"\"\"\n",
    "    Fetch metadata for all scripts from the script service.\n",
    "    \"\"\"\n",
    "    response = requests.get(f\"{SCRIPT_SERVICE_URL}/scripts\")\n",
    "    response.raise_for_status()\n",
    "    return response.json()\n",
    "\n",
    "# Function to fetch a specific script by ID\n",
    "def fetch_script_by_id(script_id):\n",
    "    \"\"\"\n",
    "    Fetch the details of a script (including lines) by its ID.\n",
    "    \"\"\"\n",
    "    response = requests.get(f\"{SCRIPT_SERVICE_URL}/scripts/{script_id}\")\n",
    "    response.raise_for_status()\n",
    "    return response.json()\n",
    "\n",
    "def fetch_chunk_by_id(chunk_id):\n",
    "    response = requests.get(f\"{SCRIPT_SERVICE_URL}/chunks/{chunk_id}\")\n",
    "    response.raise_for_status()\n",
    "    return response.json()\n",
    "\n",
    "# Function to search for similar lines in the FAISS index\n",
    "def search_similar_lines(query_embedding, top_k=5):\n",
    "    \"\"\"\n",
    "    Query the embedding index service to perform a similarity search.\n",
    "    \"\"\"\n",
    "    response = requests.post(\n",
    "        f\"{EMBEDDING_INDEX_URL}/search\",\n",
    "        json={\n",
    "            \"query_embedding\": query_embedding,\n",
    "            \"top_k\": top_k\n",
    "        }\n",
    "    )\n",
    "    response.raise_for_status()\n",
    "    return response.json()"
   ]
  },
  {
   "cell_type": "code",
   "execution_count": 89,
   "id": "b4ac5275-c764-4567-b2c7-d36cb52e8002",
   "metadata": {},
   "outputs": [
    {
     "name": "stdout",
     "output_type": "stream",
     "text": [
      "Available scripts: 22\n",
      "Selected script: {'id': 'zZuh8YUBeDY', 'name': 'Richard Sutton on Pursuing AGI Through Reinforcement Learning'}\n",
      "Chunks: 1024\n",
      "Random random_chunk: temporally symmetric in in the Alberta plan which means that there are no special phases where you like training\n",
      "Top 5 similar lines:\n",
      "\n",
      "1. ID: IGu7ivuy1Ag-23, Similarity: 249.147705078125\n",
      "machine translation so when you want to translate text from one language to another so for example let's say you\n",
      "\n",
      "2. ID: O_5e_WSNedE-949, Similarity: 249.16970825195312\n",
      "project for example is to apply the same kind of innovation methodology to basic\n",
      "\n",
      "3. ID: O_5e_WSNedE-2097, Similarity: 249.16970825195312\n",
      "project for example is to apply the same kind of innovation methodology to basic\n",
      "\n",
      "4. ID: sw8IE3MX1SY-652, Similarity: 249.27902221679688\n",
      "algorithms we've been looking at which represent learning approaches that fit naturally with different\n",
      "\n",
      "5. ID: sw8IE3MX1SY-1061, Similarity: 249.31964111328125\n",
      "tree learning or something simple like suppose you want that algorithm to\n"
     ]
    }
   ],
   "source": [
    "scripts = fetch_all_scripts()\n",
    "print(f\"Available scripts: {len(scripts)}\")\n",
    "\n",
    "# Select a random script\n",
    "import random\n",
    "random_script = random.choice(scripts)\n",
    "print(f\"Selected script: {random_script}\")\n",
    "\n",
    "# Fetch full details for the selected script\n",
    "script_details = fetch_script_by_id(random_script[\"id\"])\n",
    "print(f\"Chunks: {len(script_details['chunks'])}\")\n",
    "\n",
    "# Pick a random line from the script\n",
    "random_chunk = random.choice(script_details[\"chunks\"])\n",
    "print(f\"Random random_chunk: {random_chunk['text']}\")\n",
    "\n",
    "# Mock embedding for the random line (replace with actual embeddings from your embedding service if available)\n",
    "random_embedding = np.random.rand(768).tolist()  # Assuming 384 dimensions\n",
    "\n",
    "# Perform similarity search\n",
    "top_k = 5\n",
    "search_results = search_similar_lines(random_embedding, top_k=top_k)\n",
    "print(f\"Top {top_k} similar lines:\")\n",
    "for i, result in enumerate(search_results[\"results\"]):\n",
    "    print(f\"\\n{i + 1}. ID: {result['id']}, Similarity: {result['distance']}\")\n",
    "    result_script = fetch_chunk_by_id(result[\"id\"])\n",
    "    print(result_script[\"text\"])\n"
   ]
  },
  {
   "cell_type": "code",
   "execution_count": null,
   "id": "ec22af13-92a3-437f-9608-f229e7b887a2",
   "metadata": {},
   "outputs": [],
   "source": []
  }
 ],
 "metadata": {
  "kernelspec": {
   "display_name": "Python 3 (ipykernel)",
   "language": "python",
   "name": "python3"
  },
  "language_info": {
   "codemirror_mode": {
    "name": "ipython",
    "version": 3
   },
   "file_extension": ".py",
   "mimetype": "text/x-python",
   "name": "python",
   "nbconvert_exporter": "python",
   "pygments_lexer": "ipython3",
   "version": "3.9.21"
  }
 },
 "nbformat": 4,
 "nbformat_minor": 5
}
