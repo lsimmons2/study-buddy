{
 "cells": [
  {
   "cell_type": "code",
   "execution_count": null,
   "id": "0",
   "metadata": {},
   "outputs": [],
   "source": [
    "# Import required libraries\n",
    "import requests\n",
    "import numpy as np\n",
    "\n",
    "# Configure the services\n",
    "SCRIPT_SERVICE_URL = \"http://localhost:8001\"\n",
    "EMBEDDING_INDEX_URL = \"http://localhost:8000\""
   ]
  },
  {
   "cell_type": "code",
   "execution_count": null,
   "id": "1",
   "metadata": {},
   "outputs": [],
   "source": [
    "# Function to fetch all scripts\n",
    "def fetch_all_scripts():\n",
    "    \"\"\"\n",
    "    Fetch metadata for all scripts from the script service.\n",
    "    \"\"\"\n",
    "    response = requests.get(f\"{SCRIPT_SERVICE_URL}/scripts\")\n",
    "    response.raise_for_status()\n",
    "    return response.json()\n",
    "\n",
    "# Function to fetch a specific script by ID\n",
    "def fetch_script_by_id(script_id):\n",
    "    \"\"\"\n",
    "    Fetch the details of a script (including lines) by its ID.\n",
    "    \"\"\"\n",
    "    response = requests.get(f\"{SCRIPT_SERVICE_URL}/scripts/{script_id}\")\n",
    "    response.raise_for_status()\n",
    "    return response.json()\n",
    "\n",
    "def fetch_chunk_by_id(chunk_id):\n",
    "    response = requests.get(f\"{SCRIPT_SERVICE_URL}/chunks/{chunk_id}\")\n",
    "    response.raise_for_status()\n",
    "    return response.json()\n",
    "\n",
    "# Function to search for similar lines in the FAISS index\n",
    "def search_similar_lines(query_embedding, top_k=5):\n",
    "    \"\"\"\n",
    "    Query the embedding index service to perform a similarity search.\n",
    "    \"\"\"\n",
    "    response = requests.post(\n",
    "        f\"{EMBEDDING_INDEX_URL}/search\",\n",
    "        json={\n",
    "            \"query_embedding\": query_embedding,\n",
    "            \"top_k\": top_k\n",
    "        }\n",
    "    )\n",
    "    response.raise_for_status()\n",
    "    return response.json()"
   ]
  },
  {
   "cell_type": "code",
   "execution_count": null,
   "id": "2",
   "metadata": {},
   "outputs": [],
   "source": [
    "scripts = fetch_all_scripts()\n",
    "print(f\"Available scripts: {len(scripts)}\")\n",
    "\n",
    "# Select a random script\n",
    "import random\n",
    "random_script = random.choice(scripts)\n",
    "print(f\"Selected script: {random_script}\")\n",
    "\n",
    "# Fetch full details for the selected script\n",
    "script_details = fetch_script_by_id(random_script[\"id\"])\n",
    "print(f\"Chunks: {len(script_details['chunks'])}\")\n",
    "\n",
    "# Pick a random line from the script\n",
    "random_chunk = random.choice(script_details[\"chunks\"])\n",
    "print(f\"Random random_chunk: {random_chunk['text']}\")\n",
    "\n",
    "# Mock embedding for the random line (replace with actual embeddings from your embedding service if available)\n",
    "random_embedding = np.random.rand(768).tolist()  # Assuming 384 dimensions\n",
    "\n",
    "# Perform similarity search\n",
    "top_k = 5\n",
    "search_results = search_similar_lines(random_embedding, top_k=top_k)\n",
    "print(f\"Top {top_k} similar lines:\")\n",
    "for i, result in enumerate(search_results[\"results\"]):\n",
    "    print(f\"\\n{i + 1}. ID: {result['id']}, Similarity: {result['distance']}\")\n",
    "    result_script = fetch_chunk_by_id(result[\"id\"])\n",
    "    print(result_script[\"text\"])\n"
   ]
  },
  {
   "cell_type": "code",
   "execution_count": null,
   "id": "3",
   "metadata": {},
   "outputs": [],
   "source": [
    "QA_SERVICE_URL = \"http://localhost:8003\"\n",
    "\n",
    "\n",
    "def create_question_round(file_path):\n",
    "    response = requests.post(\n",
    "        f\"{QA_SERVICE_URL}/question-rounds\",\n",
    "        json={\n",
    "            \"filePath\": file_path\n",
    "        }\n",
    "    )\n",
    "    response.raise_for_status()\n",
    "    return response.json()\n",
    "\n",
    "create_question_round(\"video-notes.txt\")"
   ]
  },
  {
   "cell_type": "code",
   "execution_count": null,
   "id": "4",
   "metadata": {},
   "outputs": [],
   "source": []
  }
 ],
 "metadata": {
  "kernelspec": {
   "display_name": "Python 3 (ipykernel)",
   "language": "python",
   "name": "python3"
  },
  "language_info": {
   "codemirror_mode": {
    "name": "ipython",
    "version": 3
   },
   "file_extension": ".py",
   "mimetype": "text/x-python",
   "name": "python",
   "nbconvert_exporter": "python",
   "pygments_lexer": "ipython3",
   "version": "3.9.21"
  }
 },
 "nbformat": 4,
 "nbformat_minor": 5
}
